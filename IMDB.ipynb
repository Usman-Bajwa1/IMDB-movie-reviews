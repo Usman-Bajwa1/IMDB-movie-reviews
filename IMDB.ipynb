{
 "cells": [
  {
   "cell_type": "code",
   "execution_count": 1,
   "metadata": {
    "deletable": false,
    "editable": false,
    "id": "jjqUzwe969mu",
    "nbgrader": {
     "checksum": "62f7819e52083a254c81c2228bc31591",
     "grade": false,
     "grade_id": "cell-d5c13075b6763d8d",
     "locked": true,
     "schema_version": 1,
     "solution": false
    }
   },
   "outputs": [],
   "source": [
    "import pandas as pd\n",
    "import numpy as np\n",
    "import matplotlib.pyplot as plt\n",
    "\n",
    "import tensorflow as tf\n",
    "from tensorflow import keras\n",
    "from sklearn.feature_extraction.text import CountVectorizer\n",
    "\n",
    "tf.random.set_seed(42)"
   ]
  },
  {
   "cell_type": "markdown",
   "metadata": {
    "deletable": false,
    "editable": false,
    "id": "OI7tGV857bn0",
    "nbgrader": {
     "checksum": "3f83776f4e0ac502b9e769d736f6c41d",
     "grade": false,
     "grade_id": "cell-c794bfd6201853f8",
     "locked": true,
     "schema_version": 1,
     "solution": false
    }
   },
   "source": [
    "## IMDB movie reviews"
   ]
  },
  {
   "cell_type": "markdown",
   "metadata": {
    "deletable": false,
    "editable": false,
    "id": "TYaoGIaOpo2Z",
    "nbgrader": {
     "checksum": "a801dca45a23e220901889d822f5ebe6",
     "grade": false,
     "grade_id": "cell-fcfffc985f66b628",
     "locked": true,
     "schema_version": 1,
     "solution": false
    }
   },
   "source": [
    "## Retrieving and preparing the Data\n",
    "\n",
    "We will work with the IMDb movie reviews data."
   ]
  },
  {
   "cell_type": "code",
   "execution_count": 2,
   "metadata": {
    "deletable": false,
    "nbgrader": {
     "checksum": "e8cf131872ebd7d8399460943470bbe2",
     "grade": false,
     "grade_id": "cell-20a04a21a94fc74e",
     "locked": false,
     "schema_version": 1,
     "solution": true
    }
   },
   "outputs": [],
   "source": [
    "# Read in the IMDB Dataset into \"data\". Do not set an index column\n",
    "\n",
    "# YOUR CODE HERE\n",
    "data = pd.read_csv(\"IMDB Dataset.csv\")"
   ]
  },
  {
   "cell_type": "code",
   "execution_count": null,
   "metadata": {
    "deletable": false,
    "editable": false,
    "nbgrader": {
     "checksum": "87b3d3e1429333bf5d2a6e2940f2309f",
     "grade": true,
     "grade_id": "cell-e6e055c46d5b3368",
     "locked": true,
     "points": 1,
     "schema_version": 1,
     "solution": false
    }
   },
   "outputs": [],
   "source": []
  },
  {
   "cell_type": "code",
   "execution_count": 3,
   "metadata": {
    "deletable": false,
    "editable": false,
    "nbgrader": {
     "checksum": "2ab187fcf006207c13e1220389ed1fb4",
     "grade": false,
     "grade_id": "cell-106c15bf7fc4e150",
     "locked": true,
     "schema_version": 1,
     "solution": false
    }
   },
   "outputs": [
    {
     "data": {
      "text/html": [
       "<div>\n",
       "<style scoped>\n",
       "    .dataframe tbody tr th:only-of-type {\n",
       "        vertical-align: middle;\n",
       "    }\n",
       "\n",
       "    .dataframe tbody tr th {\n",
       "        vertical-align: top;\n",
       "    }\n",
       "\n",
       "    .dataframe thead th {\n",
       "        text-align: right;\n",
       "    }\n",
       "</style>\n",
       "<table border=\"1\" class=\"dataframe\">\n",
       "  <thead>\n",
       "    <tr style=\"text-align: right;\">\n",
       "      <th></th>\n",
       "      <th>review</th>\n",
       "      <th>sentiment</th>\n",
       "    </tr>\n",
       "  </thead>\n",
       "  <tbody>\n",
       "    <tr>\n",
       "      <th>0</th>\n",
       "      <td>One of the other reviewers has mentioned that ...</td>\n",
       "      <td>positive</td>\n",
       "    </tr>\n",
       "    <tr>\n",
       "      <th>1</th>\n",
       "      <td>A wonderful little production. &lt;br /&gt;&lt;br /&gt;The...</td>\n",
       "      <td>positive</td>\n",
       "    </tr>\n",
       "    <tr>\n",
       "      <th>2</th>\n",
       "      <td>I thought this was a wonderful way to spend ti...</td>\n",
       "      <td>positive</td>\n",
       "    </tr>\n",
       "    <tr>\n",
       "      <th>3</th>\n",
       "      <td>Basically there's a family where a little boy ...</td>\n",
       "      <td>negative</td>\n",
       "    </tr>\n",
       "    <tr>\n",
       "      <th>4</th>\n",
       "      <td>Petter Mattei's \"Love in the Time of Money\" is...</td>\n",
       "      <td>positive</td>\n",
       "    </tr>\n",
       "  </tbody>\n",
       "</table>\n",
       "</div>"
      ],
      "text/plain": [
       "                                              review sentiment\n",
       "0  One of the other reviewers has mentioned that ...  positive\n",
       "1  A wonderful little production. <br /><br />The...  positive\n",
       "2  I thought this was a wonderful way to spend ti...  positive\n",
       "3  Basically there's a family where a little boy ...  negative\n",
       "4  Petter Mattei's \"Love in the Time of Money\" is...  positive"
      ]
     },
     "execution_count": 3,
     "metadata": {},
     "output_type": "execute_result"
    }
   ],
   "source": [
    "data.head()"
   ]
  },
  {
   "cell_type": "code",
   "execution_count": 4,
   "metadata": {
    "deletable": false,
    "nbgrader": {
     "checksum": "72caedc853058ef311a7d160aa7f0b9a",
     "grade": false,
     "grade_id": "cell-c5da00bb8d244d49",
     "locked": false,
     "schema_version": 1,
     "solution": true
    }
   },
   "outputs": [],
   "source": [
    "# Replace all \"negative\" and \"positive\" sentiment values with o and 1 respectively.\n",
    "# You can use a simple logical operator instead of label encodeing. \n",
    "\n",
    "# YOUR CODE HERE\n",
    "data[\"sentiment\"] = np.where(data[\"sentiment\"]== \"negative\", 0, 1)"
   ]
  },
  {
   "cell_type": "code",
   "execution_count": null,
   "metadata": {
    "deletable": false,
    "editable": false,
    "nbgrader": {
     "checksum": "169c3edddf2b33fb89353a81301b005c",
     "grade": true,
     "grade_id": "cell-79a95ec153c8f3e0",
     "locked": true,
     "points": 1,
     "schema_version": 1,
     "solution": false
    }
   },
   "outputs": [],
   "source": []
  },
  {
   "cell_type": "code",
   "execution_count": 5,
   "metadata": {
    "deletable": false,
    "nbgrader": {
     "checksum": "bf7d4c869d3b0584629fbf89a1aa00d2",
     "grade": false,
     "grade_id": "cell-fb60c3ad8cffa7d5",
     "locked": false,
     "schema_version": 1,
     "solution": true
    }
   },
   "outputs": [
    {
     "name": "stdout",
     "output_type": "stream",
     "text": [
      "0    1\n",
      "1    1\n",
      "2    1\n",
      "3    0\n",
      "4    1\n",
      "5    1\n",
      "6    1\n",
      "7    0\n",
      "8    0\n",
      "9    1\n",
      "Name: sentiment, dtype: int64\n"
     ]
    }
   ],
   "source": [
    "# Get the dependent data and assign to y\n",
    "# YOUR CODE HERE\n",
    "y = data[\"sentiment\"]\n",
    "X = data[\"review\"]\n",
    "print(y[0:10])"
   ]
  },
  {
   "cell_type": "code",
   "execution_count": null,
   "metadata": {
    "deletable": false,
    "editable": false,
    "nbgrader": {
     "checksum": "12c0b188cd51e3a72997729d371c9cc4",
     "grade": true,
     "grade_id": "cell-110eb00b634b2312",
     "locked": true,
     "points": 1,
     "schema_version": 1,
     "solution": false
    }
   },
   "outputs": [],
   "source": []
  },
  {
   "cell_type": "code",
   "execution_count": 6,
   "metadata": {
    "deletable": false,
    "nbgrader": {
     "checksum": "0edcaeb4d67e532613270d5df55b4acf",
     "grade": false,
     "grade_id": "cell-841ced4ea0dcaf2f",
     "locked": false,
     "schema_version": 1,
     "solution": true
    }
   },
   "outputs": [],
   "source": [
    "from sklearn.model_selection import train_test_split\n",
    "\n",
    "# Split the X data (data['review']) and y data into X_train, X_test, y_train, and y_test\n",
    "# With a test size of 0.2 and a random_state of 42\n",
    "\n",
    "# YOUR CODE HERE\n",
    "X_train, X_test,y_train, y_test = train_test_split(X, y, test_size = 0.2, random_state=42)"
   ]
  },
  {
   "cell_type": "code",
   "execution_count": null,
   "metadata": {
    "deletable": false,
    "editable": false,
    "nbgrader": {
     "checksum": "38927d27dc23bee8e802fc61d37d3f87",
     "grade": true,
     "grade_id": "cell-1169f0269a7249e9",
     "locked": true,
     "points": 1,
     "schema_version": 1,
     "solution": false
    }
   },
   "outputs": [],
   "source": []
  },
  {
   "cell_type": "code",
   "execution_count": 7,
   "metadata": {
    "deletable": false,
    "editable": false,
    "id": "4RK7K2ZCqTb4",
    "nbgrader": {
     "checksum": "e3ab5d9602a766b48cce4d38187f6322",
     "grade": false,
     "grade_id": "cell-2744a959d2f8f369",
     "locked": true,
     "schema_version": 1,
     "solution": false
    }
   },
   "outputs": [
    {
     "name": "stdout",
     "output_type": "stream",
     "text": [
      "\n",
      "Train samples: 10000\n",
      "Test samples: 10000\n",
      "\n"
     ]
    }
   ],
   "source": [
    "print(f\"\"\"\n",
    "Train samples: {X_test.shape[0]}\n",
    "Test samples: {y_test.shape[0]}\n",
    "\"\"\"\n",
    ")"
   ]
  },
  {
   "cell_type": "code",
   "execution_count": 8,
   "metadata": {
    "colab": {
     "base_uri": "https://localhost:8080/",
     "height": 166
    },
    "deletable": false,
    "editable": false,
    "id": "wZtI-YRqTRrg",
    "nbgrader": {
     "checksum": "712aac7799944741784d78205b4c4d50",
     "grade": false,
     "grade_id": "cell-8b669b1b85e4f6aa",
     "locked": true,
     "schema_version": 1,
     "solution": false
    },
    "outputId": "01963e47-907e-4ed2-a17d-2299070d3729"
   },
   "outputs": [
    {
     "data": {
      "text/plain": [
       "39087    0\n",
       "30893    0\n",
       "45278    1\n",
       "16398    0\n",
       "13653    0\n",
       "        ..\n",
       "11284    1\n",
       "44732    1\n",
       "38158    0\n",
       "860      1\n",
       "15795    1\n",
       "Name: sentiment, Length: 40000, dtype: int64"
      ]
     },
     "execution_count": 8,
     "metadata": {},
     "output_type": "execute_result"
    }
   ],
   "source": [
    "y_train"
   ]
  },
  {
   "cell_type": "markdown",
   "metadata": {
    "deletable": false,
    "editable": false,
    "id": "OzLguIWdeB-5",
    "nbgrader": {
     "checksum": "0b30a67f0a9a62fae89dd8d046c70438",
     "grade": false,
     "grade_id": "cell-8b95ac774030229c",
     "locked": true,
     "schema_version": 1,
     "solution": false
    }
   },
   "source": [
    "Inspect the frequence of each sentiment in the traning dataset (it is balanced!)"
   ]
  },
  {
   "cell_type": "code",
   "execution_count": 9,
   "metadata": {
    "colab": {
     "base_uri": "https://localhost:8080/"
    },
    "deletable": false,
    "id": "1dVkRgPIuneP",
    "nbgrader": {
     "checksum": "256c996847f61b8dc7c6e046d1198a9c",
     "grade": false,
     "grade_id": "cell-e3bd86db55a92c1b",
     "locked": false,
     "schema_version": 1,
     "solution": true
    },
    "outputId": "71478b47-0750-4dc1-ec2e-9fa8a296fad0"
   },
   "outputs": [
    {
     "name": "stdout",
     "output_type": "stream",
     "text": [
      "0    0.500975\n",
      "1    0.499025\n",
      "Name: sentiment, dtype: float64\n"
     ]
    }
   ],
   "source": [
    "# Calculate the training data's frequency and assign the output to \"frequency\"\n",
    "\n",
    "# YOUR CODE HERE\n",
    "frequency = y_train.value_counts(normalize = True)\n",
    "\n",
    "print(frequency)"
   ]
  },
  {
   "cell_type": "code",
   "execution_count": null,
   "metadata": {
    "deletable": false,
    "editable": false,
    "nbgrader": {
     "checksum": "0e66ea37e11d351e0c37f4e3580e09fd",
     "grade": true,
     "grade_id": "cell-8bb21bb8aef92abe",
     "locked": true,
     "points": 1,
     "schema_version": 1,
     "solution": false
    }
   },
   "outputs": [],
   "source": []
  },
  {
   "cell_type": "code",
   "execution_count": 10,
   "metadata": {
    "deletable": false,
    "id": "sia5LebDeuDM",
    "nbgrader": {
     "checksum": "3696f28f069bdf94d5ca55a10f13b6f5",
     "grade": false,
     "grade_id": "cell-d9c0261312c36fad",
     "locked": false,
     "schema_version": 1,
     "solution": true
    }
   },
   "outputs": [],
   "source": [
    "# Let's turn the target into a dummy vector\n",
    "\n",
    "# YOUR CODE HERE\n",
    "y_train = pd.get_dummies(y_train).to_numpy()\n",
    "y_test = pd.get_dummies(y_test).to_numpy()\n"
   ]
  },
  {
   "cell_type": "code",
   "execution_count": null,
   "metadata": {
    "deletable": false,
    "editable": false,
    "nbgrader": {
     "checksum": "38d1479421be67b461a4fe0a68302740",
     "grade": true,
     "grade_id": "cell-3f80a9432f8bf166",
     "locked": true,
     "points": 1,
     "schema_version": 1,
     "solution": false
    }
   },
   "outputs": [],
   "source": []
  },
  {
   "cell_type": "code",
   "execution_count": 11,
   "metadata": {
    "deletable": false,
    "editable": false,
    "nbgrader": {
     "checksum": "4d6cc03e20ea5c8a9ed9e4dd65cb22c9",
     "grade": false,
     "grade_id": "cell-12af49dffe46d4f2",
     "locked": true,
     "schema_version": 1,
     "solution": false
    }
   },
   "outputs": [
    {
     "data": {
      "text/plain": [
       "(40000, 2)"
      ]
     },
     "execution_count": 11,
     "metadata": {},
     "output_type": "execute_result"
    }
   ],
   "source": [
    "y_train.shape"
   ]
  },
  {
   "cell_type": "markdown",
   "metadata": {
    "deletable": false,
    "editable": false,
    "id": "p4ktfnOWeX-x",
    "nbgrader": {
     "checksum": "53482d2ab677e371636a3b13c495a694",
     "grade": false,
     "grade_id": "cell-8fdd5bd24c5b1aa8",
     "locked": true,
     "schema_version": 1,
     "solution": false
    }
   },
   "source": [
    "## Unigram Multi-hot Encoding Baseline\n",
    "\n",
    "Next, let us see the performance of a neural net that is trained from the scratch using multi-hot encoding. "
   ]
  },
  {
   "cell_type": "code",
   "execution_count": 12,
   "metadata": {
    "deletable": false,
    "id": "h48xnYwyXLWK",
    "nbgrader": {
     "checksum": "7f66cef5156075bb4fe7dc9d70a97df0",
     "grade": false,
     "grade_id": "cell-e9277fc1e87a127a",
     "locked": false,
     "schema_version": 1,
     "solution": true
    }
   },
   "outputs": [],
   "source": [
    "# Set the maximum number of tokens to 2412. \n",
    "# Also set up our Text Vectorization layer using multi-hot encoding\n",
    "\n",
    "# YOUR CODE HERE\n",
    "max_tokens = 2412 \n",
    "text_vectorization = keras.layers.TextVectorization(\n",
    "    max_tokens=max_tokens,\n",
    "    output_mode=\"multi_hot\")"
   ]
  },
  {
   "cell_type": "code",
   "execution_count": 13,
   "metadata": {
    "deletable": false,
    "nbgrader": {
     "checksum": "1cfb54eadaf4db959ada980f108ab13a",
     "grade": false,
     "grade_id": "cell-d866880efca5c5ba",
     "locked": false,
     "schema_version": 1,
     "solution": true
    }
   },
   "outputs": [],
   "source": [
    "# The vocabulary that will be indexed is given by the text corpus on our train dataset\n",
    "# YOUR CODE HERE\n",
    "text_vectorization.adapt(X_train)"
   ]
  },
  {
   "cell_type": "code",
   "execution_count": 14,
   "metadata": {
    "deletable": false,
    "id": "jO96Ho9WXVtb",
    "nbgrader": {
     "checksum": "c6cf40ac2eac47ef2c41e0a33e7046c6",
     "grade": false,
     "grade_id": "cell-8173b8e7c6ffe8a9",
     "locked": false,
     "schema_version": 1,
     "solution": true
    }
   },
   "outputs": [],
   "source": [
    "# We vectorize our input\n",
    "# YOUR CODE HERE\n",
    "X_train = text_vectorization(X_train)\n",
    "X_test = text_vectorization(X_test)"
   ]
  },
  {
   "cell_type": "code",
   "execution_count": null,
   "metadata": {
    "deletable": false,
    "editable": false,
    "nbgrader": {
     "checksum": "47e6b7cc0160bfeb1036ac62d3f83212",
     "grade": true,
     "grade_id": "cell-4135f8aef9e4450b",
     "locked": true,
     "points": 2,
     "schema_version": 1,
     "solution": false
    }
   },
   "outputs": [],
   "source": []
  },
  {
   "cell_type": "code",
   "execution_count": 15,
   "metadata": {
    "deletable": false,
    "nbgrader": {
     "checksum": "366225b8fe209f21675f420d258e870a",
     "grade": false,
     "grade_id": "cell-d039bb02c0b80a1a",
     "locked": false,
     "schema_version": 1,
     "solution": true
    }
   },
   "outputs": [
    {
     "name": "stdout",
     "output_type": "stream",
     "text": [
      "Model: \"model\"\n",
      "_________________________________________________________________\n",
      "Layer (type)                 Output Shape              Param #   \n",
      "=================================================================\n",
      "input_1 (InputLayer)         [(None, 2412)]            0         \n",
      "_________________________________________________________________\n",
      "dense (Dense)                (None, 32)                77216     \n",
      "_________________________________________________________________\n",
      "dropout (Dropout)            (None, 32)                0         \n",
      "_________________________________________________________________\n",
      "dense_1 (Dense)              (None, 2)                 66        \n",
      "=================================================================\n",
      "Total params: 77,282\n",
      "Trainable params: 77,282\n",
      "Non-trainable params: 0\n",
      "_________________________________________________________________\n"
     ]
    }
   ],
   "source": [
    "# Now create your model. start with 32 dense relu layers, a dropout layer of 0.5, and a final softmax layer\n",
    "\n",
    "# YOUR CODE HERE\n",
    "inputs = keras.Input(shape=(max_tokens, ))\n",
    "x = keras.layers.Dense(32, activation=\"relu\")(inputs)\n",
    "x = keras.layers.Dropout(0.5)(x)\n",
    "outputs = keras.layers.Dense(2, activation=\"softmax\")(x)\n",
    "\n",
    "model = keras.Model(inputs, outputs)\n",
    "\n",
    "model.summary()"
   ]
  },
  {
   "cell_type": "code",
   "execution_count": null,
   "metadata": {
    "deletable": false,
    "editable": false,
    "nbgrader": {
     "checksum": "8b58ab7839970049540786e9f1c55534",
     "grade": true,
     "grade_id": "cell-08aef8ff5a27cdbd",
     "locked": true,
     "points": 1,
     "schema_version": 1,
     "solution": false
    }
   },
   "outputs": [],
   "source": []
  },
  {
   "cell_type": "code",
   "execution_count": 16,
   "metadata": {
    "deletable": false,
    "nbgrader": {
     "checksum": "07007d98c76cf4987306051fa690778a",
     "grade": false,
     "grade_id": "cell-bf0c9b489f54a4f1",
     "locked": false,
     "schema_version": 1,
     "solution": true
    }
   },
   "outputs": [],
   "source": [
    "# Compile your model\n",
    "\n",
    "# YOUR CODE HERE\n",
    "model.compile(optimizer=\"adam\",\n",
    "              loss=\"categorical_crossentropy\",\n",
    "              metrics=[\"accuracy\"])"
   ]
  },
  {
   "cell_type": "code",
   "execution_count": 17,
   "metadata": {
    "deletable": false,
    "nbgrader": {
     "checksum": "95b5575361496edbb11f0c060a42679a",
     "grade": false,
     "grade_id": "cell-dd0a166873b6f420",
     "locked": false,
     "schema_version": 1,
     "solution": true
    }
   },
   "outputs": [
    {
     "name": "stdout",
     "output_type": "stream",
     "text": [
      "Epoch 1/10\n",
      "1250/1250 [==============================] - 3s 2ms/step - loss: 0.3661 - accuracy: 0.8400\n",
      "Epoch 2/10\n",
      "1250/1250 [==============================] - 2s 2ms/step - loss: 0.2852 - accuracy: 0.8826\n",
      "Epoch 3/10\n",
      "1250/1250 [==============================] - 2s 2ms/step - loss: 0.2638 - accuracy: 0.8925\n",
      "Epoch 4/10\n",
      "1250/1250 [==============================] - 2s 2ms/step - loss: 0.2436 - accuracy: 0.9017\n",
      "Epoch 5/10\n",
      "1250/1250 [==============================] - 2s 2ms/step - loss: 0.2319 - accuracy: 0.9093\n",
      "Epoch 6/10\n",
      "1250/1250 [==============================] - 2s 2ms/step - loss: 0.2170 - accuracy: 0.9120\n",
      "Epoch 7/10\n",
      "1250/1250 [==============================] - 2s 2ms/step - loss: 0.2041 - accuracy: 0.9186\n",
      "Epoch 8/10\n",
      "1250/1250 [==============================] - 2s 2ms/step - loss: 0.1889 - accuracy: 0.9269\n",
      "Epoch 9/10\n",
      "1250/1250 [==============================] - 2s 2ms/step - loss: 0.1788 - accuracy: 0.9314\n",
      "Epoch 10/10\n",
      "1250/1250 [==============================] - 2s 2ms/step - loss: 0.1680 - accuracy: 0.9343\n"
     ]
    },
    {
     "data": {
      "text/plain": [
       "<keras.callbacks.History at 0x7f17204ba828>"
      ]
     },
     "execution_count": 17,
     "metadata": {},
     "output_type": "execute_result"
    }
   ],
   "source": [
    "# YOUR CODE HERE\n",
    "model.fit(x=X_train, y=y_train,\n",
    "          epochs=10,\n",
    "          batch_size=32)"
   ]
  },
  {
   "cell_type": "code",
   "execution_count": 18,
   "metadata": {
    "deletable": false,
    "nbgrader": {
     "checksum": "d38d17e24c54522e921010e1dabfe031",
     "grade": false,
     "grade_id": "cell-19919983da9eb5f0",
     "locked": false,
     "schema_version": 1,
     "solution": true
    }
   },
   "outputs": [
    {
     "name": "stdout",
     "output_type": "stream",
     "text": [
      "313/313 [==============================] - 1s 1ms/step - loss: 0.3403 - accuracy: 0.8681\n"
     ]
    },
    {
     "data": {
      "text/plain": [
       "[0.34028443694114685, 0.8680999875068665]"
      ]
     },
     "execution_count": 18,
     "metadata": {},
     "output_type": "execute_result"
    }
   ],
   "source": [
    "# Evaluate your model. You should be able to get your model to 85% at this point\n",
    "# YOUR CODE HERE\n",
    "model.evaluate(X_test,y_test)\n"
   ]
  },
  {
   "cell_type": "code",
   "execution_count": null,
   "metadata": {
    "deletable": false,
    "editable": false,
    "nbgrader": {
     "checksum": "b65035c4f19b618a1ba76738d5deaf11",
     "grade": true,
     "grade_id": "cell-dbecb78608cc0127",
     "locked": true,
     "points": 2,
     "schema_version": 1,
     "solution": false
    }
   },
   "outputs": [],
   "source": []
  },
  {
   "cell_type": "markdown",
   "metadata": {
    "deletable": false,
    "editable": false,
    "id": "hlSWRoTGqn7Y",
    "nbgrader": {
     "checksum": "f24877faf0501bb073b82d4907dc36b9",
     "grade": false,
     "grade_id": "cell-70a2245e1fd4ffbd",
     "locked": true,
     "schema_version": 1,
     "solution": false
    }
   },
   "source": [
    "## Extend Baseline Model"
   ]
  },
  {
   "cell_type": "markdown",
   "metadata": {
    "deletable": false,
    "editable": false,
    "id": "zr2zmxTRquGw",
    "nbgrader": {
     "checksum": "46be15ce582c83eb9c3e1016c3657f2f",
     "grade": false,
     "grade_id": "cell-a3569eb3279dc7b1",
     "locked": true,
     "schema_version": 1,
     "solution": false
    }
   },
   "source": [
    "Let's create more complex models to increase the accuracy on our test sample. Try combining different models by changing:\n",
    "- Number of hidden units\n",
    "- Adding another hidden layer.\n",
    "- Changing the number of epochs.\n",
    "- Using bigrams instead of unigrams.\n",
    "\n",
    "To guide your search for the best parameters, note how the accuracy changes on both train and test data."
   ]
  },
  {
   "cell_type": "code",
   "execution_count": 19,
   "metadata": {
    "deletable": false,
    "id": "72tQJQOWqrxG",
    "nbgrader": {
     "checksum": "bc6d313f23848cca133da79089f248fa",
     "grade": false,
     "grade_id": "cell-d123d80f6d95e712",
     "locked": false,
     "schema_version": 1,
     "solution": true
    }
   },
   "outputs": [
    {
     "name": "stdout",
     "output_type": "stream",
     "text": [
      "Epoch 1/15\n",
      "1250/1250 [==============================] - 4s 2ms/step - loss: 0.4176 - accuracy: 0.8090\n",
      "Epoch 2/15\n",
      "1250/1250 [==============================] - 3s 2ms/step - loss: 0.3149 - accuracy: 0.8692\n",
      "Epoch 3/15\n",
      "1250/1250 [==============================] - 3s 2ms/step - loss: 0.2855 - accuracy: 0.8845\n",
      "Epoch 4/15\n",
      "1250/1250 [==============================] - 3s 2ms/step - loss: 0.2644 - accuracy: 0.8963\n",
      "Epoch 5/15\n",
      "1250/1250 [==============================] - 3s 2ms/step - loss: 0.2421 - accuracy: 0.9033\n",
      "Epoch 6/15\n",
      "1250/1250 [==============================] - 3s 2ms/step - loss: 0.2226 - accuracy: 0.9118\n",
      "Epoch 7/15\n",
      "1250/1250 [==============================] - 3s 2ms/step - loss: 0.2003 - accuracy: 0.9223\n",
      "Epoch 8/15\n",
      "1250/1250 [==============================] - 3s 2ms/step - loss: 0.1839 - accuracy: 0.9295\n",
      "Epoch 9/15\n",
      "1250/1250 [==============================] - 3s 2ms/step - loss: 0.1746 - accuracy: 0.9315\n",
      "Epoch 10/15\n",
      "1250/1250 [==============================] - 3s 2ms/step - loss: 0.1560 - accuracy: 0.9390\n",
      "Epoch 11/15\n",
      "1250/1250 [==============================] - 3s 2ms/step - loss: 0.1448 - accuracy: 0.9434\n",
      "Epoch 12/15\n",
      "1250/1250 [==============================] - 3s 2ms/step - loss: 0.1399 - accuracy: 0.9443\n",
      "Epoch 13/15\n",
      "1250/1250 [==============================] - 3s 2ms/step - loss: 0.1307 - accuracy: 0.9477\n",
      "Epoch 14/15\n",
      "1250/1250 [==============================] - 3s 2ms/step - loss: 0.1293 - accuracy: 0.9489\n",
      "Epoch 15/15\n",
      "1250/1250 [==============================] - 3s 2ms/step - loss: 0.1219 - accuracy: 0.9512\n",
      "313/313 [==============================] - 1s 1ms/step - loss: 0.4717 - accuracy: 0.8665\n",
      "Testing accuracy for 64 hidden unit and 15 epochs is:0.8665000200271606\n",
      "Epoch 1/30\n",
      "1250/1250 [==============================] - 3s 2ms/step - loss: 0.4142 - accuracy: 0.8135\n",
      "Epoch 2/30\n",
      "1250/1250 [==============================] - 3s 2ms/step - loss: 0.3114 - accuracy: 0.8710\n",
      "Epoch 3/30\n",
      "1250/1250 [==============================] - 3s 2ms/step - loss: 0.2813 - accuracy: 0.8855\n",
      "Epoch 4/30\n",
      "1250/1250 [==============================] - 3s 2ms/step - loss: 0.2616 - accuracy: 0.8968\n",
      "Epoch 5/30\n",
      "1250/1250 [==============================] - 3s 2ms/step - loss: 0.2403 - accuracy: 0.9054\n",
      "Epoch 6/30\n",
      "1250/1250 [==============================] - 3s 2ms/step - loss: 0.2184 - accuracy: 0.9147\n",
      "Epoch 7/30\n",
      "1250/1250 [==============================] - 3s 2ms/step - loss: 0.1972 - accuracy: 0.9234\n",
      "Epoch 8/30\n",
      "1250/1250 [==============================] - 3s 2ms/step - loss: 0.1800 - accuracy: 0.9306\n",
      "Epoch 9/30\n",
      "1250/1250 [==============================] - 3s 2ms/step - loss: 0.1676 - accuracy: 0.9364\n",
      "Epoch 10/30\n",
      "1250/1250 [==============================] - 3s 2ms/step - loss: 0.1559 - accuracy: 0.9372\n",
      "Epoch 11/30\n",
      "1250/1250 [==============================] - 3s 2ms/step - loss: 0.1491 - accuracy: 0.9418\n",
      "Epoch 12/30\n",
      "1250/1250 [==============================] - 3s 2ms/step - loss: 0.1371 - accuracy: 0.9454\n",
      "Epoch 13/30\n",
      "1250/1250 [==============================] - 3s 2ms/step - loss: 0.1313 - accuracy: 0.9478\n",
      "Epoch 14/30\n",
      "1250/1250 [==============================] - 3s 2ms/step - loss: 0.1246 - accuracy: 0.9493\n",
      "Epoch 15/30\n",
      "1250/1250 [==============================] - 3s 2ms/step - loss: 0.1212 - accuracy: 0.9511\n",
      "Epoch 16/30\n",
      "1250/1250 [==============================] - 3s 2ms/step - loss: 0.1198 - accuracy: 0.9523\n",
      "Epoch 17/30\n",
      "1250/1250 [==============================] - 3s 2ms/step - loss: 0.1117 - accuracy: 0.9521\n",
      "Epoch 18/30\n",
      "1250/1250 [==============================] - 3s 2ms/step - loss: 0.1104 - accuracy: 0.9529\n",
      "Epoch 19/30\n",
      "1250/1250 [==============================] - 3s 2ms/step - loss: 0.1052 - accuracy: 0.9574\n",
      "Epoch 20/30\n",
      "1250/1250 [==============================] - 3s 2ms/step - loss: 0.1069 - accuracy: 0.9565\n",
      "Epoch 21/30\n",
      "1250/1250 [==============================] - 3s 2ms/step - loss: 0.1006 - accuracy: 0.9577\n",
      "Epoch 22/30\n",
      "1250/1250 [==============================] - 3s 2ms/step - loss: 0.0998 - accuracy: 0.9585\n",
      "Epoch 23/30\n",
      "1250/1250 [==============================] - 3s 2ms/step - loss: 0.0987 - accuracy: 0.9589\n",
      "Epoch 24/30\n",
      "1250/1250 [==============================] - 3s 2ms/step - loss: 0.0934 - accuracy: 0.9606\n",
      "Epoch 25/30\n",
      "1250/1250 [==============================] - 3s 2ms/step - loss: 0.0919 - accuracy: 0.9625\n",
      "Epoch 26/30\n",
      "1250/1250 [==============================] - 3s 2ms/step - loss: 0.0929 - accuracy: 0.9618\n",
      "Epoch 27/30\n",
      "1250/1250 [==============================] - 3s 2ms/step - loss: 0.0895 - accuracy: 0.9621\n",
      "Epoch 28/30\n",
      "1250/1250 [==============================] - 3s 2ms/step - loss: 0.0822 - accuracy: 0.9650\n",
      "Epoch 29/30\n",
      "1250/1250 [==============================] - 3s 2ms/step - loss: 0.0869 - accuracy: 0.9632\n",
      "Epoch 30/30\n",
      "1250/1250 [==============================] - 3s 2ms/step - loss: 0.0840 - accuracy: 0.9634\n",
      "313/313 [==============================] - 1s 1ms/step - loss: 0.6055 - accuracy: 0.8665\n",
      "Testing accuracy for 64 hidden unit and 30 epochs is:0.8665000200271606\n",
      "Epoch 1/15\n",
      "1250/1250 [==============================] - 4s 3ms/step - loss: 0.4001 - accuracy: 0.8229\n",
      "Epoch 2/15\n",
      "1250/1250 [==============================] - 3s 3ms/step - loss: 0.3032 - accuracy: 0.8765\n",
      "Epoch 3/15\n",
      "1250/1250 [==============================] - 3s 3ms/step - loss: 0.2700 - accuracy: 0.8933\n",
      "Epoch 4/15\n",
      "1250/1250 [==============================] - 3s 3ms/step - loss: 0.2405 - accuracy: 0.9061\n",
      "Epoch 5/15\n",
      "1250/1250 [==============================] - 3s 3ms/step - loss: 0.2095 - accuracy: 0.9202\n",
      "Epoch 6/15\n",
      "1250/1250 [==============================] - 3s 3ms/step - loss: 0.1789 - accuracy: 0.9322\n",
      "Epoch 7/15\n",
      "1250/1250 [==============================] - 3s 3ms/step - loss: 0.1610 - accuracy: 0.9401\n",
      "Epoch 8/15\n",
      "1250/1250 [==============================] - 3s 3ms/step - loss: 0.1396 - accuracy: 0.9496\n",
      "Epoch 9/15\n",
      "1250/1250 [==============================] - 3s 3ms/step - loss: 0.1283 - accuracy: 0.9528\n",
      "Epoch 10/15\n",
      "1250/1250 [==============================] - 3s 3ms/step - loss: 0.1134 - accuracy: 0.9595\n",
      "Epoch 11/15\n",
      "1250/1250 [==============================] - 3s 3ms/step - loss: 0.1065 - accuracy: 0.9599\n",
      "Epoch 12/15\n",
      "1250/1250 [==============================] - 3s 3ms/step - loss: 0.0997 - accuracy: 0.9634\n",
      "Epoch 13/15\n",
      "1250/1250 [==============================] - 3s 3ms/step - loss: 0.0927 - accuracy: 0.9658\n",
      "Epoch 14/15\n",
      "1250/1250 [==============================] - 3s 3ms/step - loss: 0.0888 - accuracy: 0.9668\n",
      "Epoch 15/15\n",
      "1250/1250 [==============================] - 3s 3ms/step - loss: 0.0852 - accuracy: 0.9688\n",
      "313/313 [==============================] - 1s 1ms/step - loss: 0.4942 - accuracy: 0.8732\n",
      "Testing accuracy for 128 hidden unit and 15 epochs is:0.873199999332428\n",
      "Epoch 1/30\n",
      "1250/1250 [==============================] - 4s 3ms/step - loss: 0.3953 - accuracy: 0.8247\n",
      "Epoch 2/30\n",
      "1250/1250 [==============================] - 4s 3ms/step - loss: 0.3034 - accuracy: 0.8757\n",
      "Epoch 3/30\n",
      "1250/1250 [==============================] - 4s 3ms/step - loss: 0.2680 - accuracy: 0.8928\n",
      "Epoch 4/30\n",
      "1250/1250 [==============================] - 3s 3ms/step - loss: 0.2391 - accuracy: 0.9071\n",
      "Epoch 5/30\n",
      "1250/1250 [==============================] - 3s 3ms/step - loss: 0.2058 - accuracy: 0.9214\n",
      "Epoch 6/30\n",
      "1250/1250 [==============================] - 3s 3ms/step - loss: 0.1775 - accuracy: 0.9346\n",
      "Epoch 7/30\n",
      "1250/1250 [==============================] - 3s 3ms/step - loss: 0.1525 - accuracy: 0.9430\n",
      "Epoch 8/30\n",
      "1250/1250 [==============================] - 3s 3ms/step - loss: 0.1362 - accuracy: 0.9501\n",
      "Epoch 9/30\n",
      "1250/1250 [==============================] - 3s 3ms/step - loss: 0.1217 - accuracy: 0.9543\n",
      "Epoch 10/30\n",
      "1250/1250 [==============================] - 3s 3ms/step - loss: 0.1064 - accuracy: 0.9618\n",
      "Epoch 11/30\n",
      "1250/1250 [==============================] - 3s 3ms/step - loss: 0.1017 - accuracy: 0.9634\n",
      "Epoch 12/30\n",
      "1250/1250 [==============================] - 3s 3ms/step - loss: 0.0912 - accuracy: 0.9663\n",
      "Epoch 13/30\n",
      "1250/1250 [==============================] - 3s 3ms/step - loss: 0.0898 - accuracy: 0.9664\n",
      "Epoch 14/30\n",
      "1250/1250 [==============================] - 3s 3ms/step - loss: 0.0826 - accuracy: 0.9695\n",
      "Epoch 15/30\n",
      "1250/1250 [==============================] - 3s 3ms/step - loss: 0.0806 - accuracy: 0.9706\n",
      "Epoch 16/30\n",
      "1250/1250 [==============================] - 4s 3ms/step - loss: 0.0782 - accuracy: 0.9706\n",
      "Epoch 17/30\n",
      "1250/1250 [==============================] - 3s 3ms/step - loss: 0.0739 - accuracy: 0.9742\n",
      "Epoch 18/30\n",
      "1250/1250 [==============================] - 4s 3ms/step - loss: 0.0662 - accuracy: 0.9765\n",
      "Epoch 19/30\n",
      "1250/1250 [==============================] - 3s 3ms/step - loss: 0.0719 - accuracy: 0.9754\n",
      "Epoch 20/30\n",
      "1250/1250 [==============================] - 3s 3ms/step - loss: 0.0630 - accuracy: 0.9769\n",
      "Epoch 21/30\n",
      "1250/1250 [==============================] - 4s 3ms/step - loss: 0.0617 - accuracy: 0.9781\n",
      "Epoch 22/30\n",
      "1250/1250 [==============================] - 3s 3ms/step - loss: 0.0627 - accuracy: 0.9779\n",
      "Epoch 23/30\n",
      "1250/1250 [==============================] - 3s 3ms/step - loss: 0.0621 - accuracy: 0.9784\n",
      "Epoch 24/30\n",
      "1250/1250 [==============================] - 4s 3ms/step - loss: 0.0584 - accuracy: 0.9801\n",
      "Epoch 25/30\n",
      "1250/1250 [==============================] - 3s 3ms/step - loss: 0.0558 - accuracy: 0.9797\n",
      "Epoch 26/30\n",
      "1250/1250 [==============================] - 3s 3ms/step - loss: 0.0565 - accuracy: 0.9800\n",
      "Epoch 27/30\n",
      "1250/1250 [==============================] - 3s 3ms/step - loss: 0.0535 - accuracy: 0.9815\n",
      "Epoch 28/30\n",
      "1250/1250 [==============================] - 3s 3ms/step - loss: 0.0539 - accuracy: 0.9813\n",
      "Epoch 29/30\n",
      "1250/1250 [==============================] - 3s 3ms/step - loss: 0.0516 - accuracy: 0.9814\n",
      "Epoch 30/30\n",
      "1250/1250 [==============================] - 3s 3ms/step - loss: 0.0521 - accuracy: 0.9813\n",
      "313/313 [==============================] - 2s 2ms/step - loss: 0.6416 - accuracy: 0.8702\n",
      "Testing accuracy for 128 hidden unit and 30 epochs is:0.870199978351593\n"
     ]
    }
   ],
   "source": [
    "# Begin your model here\n",
    "\n",
    "# YOUR CODE HERE\n",
    "\n",
    "hidden_units = [64,128]\n",
    "no_epochs = [15,30]\n",
    "X_train, X_test,y_train, y_test = train_test_split(X, y, test_size = 0.2, random_state=42)\n",
    "text_vectorization = keras.layers.TextVectorization(\n",
    "    max_tokens=max_tokens,\n",
    "    output_mode=\"multi_hot\",\n",
    "    ngrams = 2)\n",
    "y_train_new = pd.get_dummies(y_train).to_numpy()\n",
    "y_test_new = pd.get_dummies(y_test).to_numpy()\n",
    "text_vectorization.adapt(X_train)\n",
    "X_train_vec = text_vectorization(X_train)\n",
    "X_test_vec = text_vectorization(X_test)\n",
    "best_params = {\"Hidden Units\":128 , \"Epochs\": 15}\n",
    "for h_units in hidden_units:\n",
    "    for epochs in no_epochs:\n",
    "        inputs = keras.Input(shape=(max_tokens, ))\n",
    "        x = keras.layers.Dense(h_units, activation=\"relu\")(inputs)\n",
    "        x = keras.layers.Dropout(0.5)(x)\n",
    "        x = keras.layers.Dense(16)(x)\n",
    "        x = keras.layers.Dropout(0.5)(x)\n",
    "        outputs = keras.layers.Dense(2, activation=\"softmax\")(x)\n",
    "        model = keras.Model(inputs, outputs)\n",
    "        model.compile(optimizer=\"adam\",\n",
    "              loss=\"categorical_crossentropy\",\n",
    "              metrics=[\"accuracy\"])\n",
    "        h = model.fit(x=X_train_vec, y=y_train_new,\n",
    "          epochs=epochs,\n",
    "          batch_size=32)\n",
    "        #print(f\"Training accuracy for {h_units} hidden unit and {epochs} epochs is: {h.accuracy}\") \n",
    "        test_accuracy = model.evaluate(X_test_vec, y_test_new)\n",
    "        print(f\"Testing accuracy for {h_units} hidden unit and {epochs} epochs is:{test_accuracy[1]}\")\n"
   ]
  },
  {
   "cell_type": "code",
   "execution_count": null,
   "metadata": {},
   "outputs": [],
   "source": []
  }
 ],
 "metadata": {
  "colab": {
   "provenance": []
  },
  "kernelspec": {
   "display_name": "Python 3",
   "language": "python",
   "name": "python3"
  },
  "language_info": {
   "codemirror_mode": {
    "name": "ipython",
    "version": 3
   },
   "file_extension": ".py",
   "mimetype": "text/x-python",
   "name": "python",
   "nbconvert_exporter": "python",
   "pygments_lexer": "ipython3",
   "version": "3.6.9"
  }
 },
 "nbformat": 4,
 "nbformat_minor": 1
}
